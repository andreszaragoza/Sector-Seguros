{
 "cells": [
  {
   "cell_type": "code",
   "execution_count": 18,
   "id": "1cab0bad",
   "metadata": {},
   "outputs": [],
   "source": [
    "import pandas as pd\n",
    "import numpy as np  \n",
    "import matplotlib.pyplot as plt\n",
    "import seaborn as sns   "
   ]
  },
  {
   "cell_type": "markdown",
   "id": "26bb4312",
   "metadata": {},
   "source": [
    "## Leemos markdown"
   ]
  },
  {
   "cell_type": "code",
   "execution_count": 2,
   "id": "fcdeb975",
   "metadata": {},
   "outputs": [],
   "source": [
    "clientes = pd.read_csv('../data/raw/clientes.csv')\n",
    "polizas = pd.read_csv('../data/raw/polizas.csv')\n",
    "siniestros = pd.read_csv('../data/raw/siniestros.csv')"
   ]
  },
  {
   "cell_type": "markdown",
   "id": "15cbd86a",
   "metadata": {},
   "source": [
    "#### Revisamos estructura"
   ]
  },
  {
   "cell_type": "code",
   "execution_count": 3,
   "id": "6714d878",
   "metadata": {},
   "outputs": [
    {
     "name": "stdout",
     "output_type": "stream",
     "text": [
      "<class 'pandas.core.frame.DataFrame'>\n",
      "RangeIndex: 12000 entries, 0 to 11999\n",
      "Data columns (total 8 columns):\n",
      " #   Column            Non-Null Count  Dtype \n",
      "---  ------            --------------  ----- \n",
      " 0   ID_Cliente        12000 non-null  int64 \n",
      " 1   Nombre            12000 non-null  object\n",
      " 2   Apellido          12000 non-null  object\n",
      " 3   Edad              12000 non-null  int64 \n",
      " 4   genero            12000 non-null  object\n",
      " 5   pais              12000 non-null  object\n",
      " 6   ingresos_anuales  12000 non-null  int64 \n",
      " 7   fecha_registro    12000 non-null  object\n",
      "dtypes: int64(3), object(5)\n",
      "memory usage: 750.1+ KB\n",
      "<class 'pandas.core.frame.DataFrame'>\n",
      "RangeIndex: 15000 entries, 0 to 14999\n",
      "Data columns (total 7 columns):\n",
      " #   Column        Non-Null Count  Dtype  \n",
      "---  ------        --------------  -----  \n",
      " 0   ID_poliza     15000 non-null  int64  \n",
      " 1   ID_cliente    15000 non-null  int64  \n",
      " 2   Tipo_seguro   15000 non-null  object \n",
      " 3   Estado        15000 non-null  object \n",
      " 4   Prima_anual   15000 non-null  float64\n",
      " 5   fecha_inicio  15000 non-null  object \n",
      " 6   fecha_fin     15000 non-null  object \n",
      "dtypes: float64(1), int64(2), object(4)\n",
      "memory usage: 820.4+ KB\n",
      "<class 'pandas.core.frame.DataFrame'>\n",
      "RangeIndex: 18000 entries, 0 to 17999\n",
      "Data columns (total 5 columns):\n",
      " #   Column           Non-Null Count  Dtype  \n",
      "---  ------           --------------  -----  \n",
      " 0   id_siniestro     18000 non-null  int64  \n",
      " 1   id_poliza        18000 non-null  int64  \n",
      " 2   fecha_siniestro  18000 non-null  object \n",
      " 3   tipo_siniestro   18000 non-null  object \n",
      " 4   coste_siniestro  18000 non-null  float64\n",
      "dtypes: float64(1), int64(2), object(2)\n",
      "memory usage: 703.3+ KB\n"
     ]
    }
   ],
   "source": [
    "clientes.info()\n",
    "polizas.info()\n",
    "siniestros.info()"
   ]
  },
  {
   "cell_type": "markdown",
   "id": "184d5484",
   "metadata": {},
   "source": [
    "### Verinifcamos que no hay nulos"
   ]
  },
  {
   "cell_type": "code",
   "execution_count": 6,
   "id": "c332514d",
   "metadata": {},
   "outputs": [
    {
     "data": {
      "text/plain": [
       "id_siniestro       0\n",
       "id_poliza          0\n",
       "fecha_siniestro    0\n",
       "tipo_siniestro     0\n",
       "coste_siniestro    0\n",
       "dtype: int64"
      ]
     },
     "execution_count": 6,
     "metadata": {},
     "output_type": "execute_result"
    }
   ],
   "source": [
    "clientes.isna().sum()\n",
    "polizas.isna().sum()\n",
    "siniestros.isna().sum()"
   ]
  },
  {
   "cell_type": "markdown",
   "id": "c3cba801",
   "metadata": {},
   "source": [
    "### ¿ Cuantos clientes unicos hay?"
   ]
  },
  {
   "cell_type": "code",
   "execution_count": 13,
   "id": "387ba336",
   "metadata": {},
   "outputs": [
    {
     "data": {
      "text/plain": [
       "12000"
      ]
     },
     "execution_count": 13,
     "metadata": {},
     "output_type": "execute_result"
    }
   ],
   "source": [
    "clientes['ID_Cliente'].nunique()"
   ]
  },
  {
   "cell_type": "code",
   "execution_count": 27,
   "id": "58515ad6",
   "metadata": {},
   "outputs": [
    {
     "data": {
      "text/plain": [
       "8554"
      ]
     },
     "execution_count": 27,
     "metadata": {},
     "output_type": "execute_result"
    }
   ],
   "source": [
    "polizas['ID_cliente'].nunique()"
   ]
  },
  {
   "cell_type": "code",
   "execution_count": 14,
   "id": "deeb4d2d",
   "metadata": {},
   "outputs": [
    {
     "data": {
      "text/plain": [
       "np.int64(0)"
      ]
     },
     "execution_count": 14,
     "metadata": {},
     "output_type": "execute_result"
    }
   ],
   "source": [
    "clientes.duplicated(['ID_Cliente']).sum()"
   ]
  },
  {
   "cell_type": "markdown",
   "id": "c4af58e1",
   "metadata": {},
   "source": [
    "“Tenemos 12,000 clientes únicos en el dataset. Verifiqué que no hay duplicados en el identificador id_cliente.”"
   ]
  },
  {
   "cell_type": "markdown",
   "id": "1b3ad6b9",
   "metadata": {},
   "source": [
    "### ¿Cuantos polizas promedio tiene el cliente?"
   ]
  },
  {
   "cell_type": "code",
   "execution_count": 17,
   "id": "af03318e",
   "metadata": {},
   "outputs": [
    {
     "data": {
      "text/plain": [
       "np.float64(1.7535655833528174)"
      ]
     },
     "execution_count": 17,
     "metadata": {},
     "output_type": "execute_result"
    }
   ],
   "source": [
    "polizas.groupby('ID_cliente')['ID_poliza'].count().mean()"
   ]
  },
  {
   "cell_type": "code",
   "execution_count": 21,
   "id": "53c36d5b",
   "metadata": {},
   "outputs": [
    {
     "data": {
      "text/plain": [
       "Text(0.5, 0, 'Número de Pólizas por Cliente')"
      ]
     },
     "execution_count": 21,
     "metadata": {},
     "output_type": "execute_result"
    },
    {
     "data": {
      "image/png": "[encoded data removed]",
      "text/plain": [
       "<Figure size 640x480 with 1 Axes>"
      ]
     },
     "metadata": {},
     "output_type": "display_data"
    }
   ],
   "source": [
    "sns.histplot(polizas.groupby('ID_cliente')['ID_poliza'].count(), bins=30)\n",
    "plt.xlabel('Número de Pólizas por Cliente')"
   ]
  },
  {
   "cell_type": "markdown",
   "id": "1de4df8e",
   "metadata": {},
   "source": [
    "### Cada cliente tiene en promedio 1.7 pólizas. Algunos tienen una sola, pero hay clientes con más de 3.”"
   ]
  },
  {
   "cell_type": "markdown",
   "id": "97c86d72",
   "metadata": {},
   "source": [
    "### ¿Qué porcentaje de pólizas están activas o canceladas"
   ]
  },
  {
   "cell_type": "code",
   "execution_count": 23,
   "id": "893e38fc",
   "metadata": {},
   "outputs": [
    {
     "data": {
      "text/plain": [
       "Text(0.5, 0, 'Estado de la Póliza')"
      ]
     },
     "execution_count": 23,
     "metadata": {},
     "output_type": "execute_result"
    },
    {
     "data": {
      "image/png": "[encoded data removed]",
      "text/plain": [
       "<Figure size 640x480 with 1 Axes>"
      ]
     },
     "metadata": {},
     "output_type": "display_data"
    }
   ],
   "source": [
    "polizas['Estado'].value_counts(normalize=True) * 100\n",
    "sns.countplot(data=polizas, x='Estado')\n",
    "plt.xlabel('Estado de la Póliza')"
   ]
  },
  {
   "cell_type": "markdown",
   "id": "e46decc3",
   "metadata": {},
   "source": [
    "### ¿Cuál es la media de la prima anual?"
   ]
  },
  {
   "cell_type": "code",
   "execution_count": 25,
   "id": "c91ad395",
   "metadata": {},
   "outputs": [
    {
     "data": {
      "text/plain": [
       "np.float64(85.81003533333333)"
      ]
     },
     "execution_count": 25,
     "metadata": {},
     "output_type": "execute_result"
    }
   ],
   "source": [
    "polizas['Prima_anual'].mean()"
   ]
  },
  {
   "cell_type": "code",
   "execution_count": 26,
   "id": "13b0ec90",
   "metadata": {},
   "outputs": [
    {
     "data": {
      "text/plain": [
       "count    15000.000000\n",
       "mean        85.810035\n",
       "std        998.936948\n",
       "min      -3516.690000\n",
       "25%       -583.017500\n",
       "50%         93.295000\n",
       "75%        754.357500\n",
       "max       4794.470000\n",
       "Name: Prima_anual, dtype: float64"
      ]
     },
     "execution_count": 26,
     "metadata": {},
     "output_type": "execute_result"
    }
   ],
   "source": [
    "polizas['Prima_anual'].describe()"
   ]
  },
  {
   "cell_type": "markdown",
   "id": "a9501710",
   "metadata": {},
   "source": [
    "“La prima media anual es de aproximadamente 86 €, aunque con bastante dispersión según el tipo de seguro.”"
   ]
  }
 ],
 "metadata": {
  "kernelspec": {
   "display_name": "sector-seguros",
   "language": "python",
   "name": "python3"
  },
  "language_info": {
   "codemirror_mode": {
    "name": "ipython",
    "version": 3
   },
   "file_extension": ".py",
   "mimetype": "text/x-python",
   "name": "python",
   "nbconvert_exporter": "python",
   "pygments_lexer": "ipython3",
   "version": "3.11.11"
  }
 },
 "nbformat": 4,
 "nbformat_minor": 5
}
