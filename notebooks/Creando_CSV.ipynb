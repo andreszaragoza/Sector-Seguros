{
 "cells": [
  {
   "cell_type": "markdown",
   "id": "e4b145bf",
   "metadata": {},
   "source": [
    "## Creamos los Csv con random"
   ]
  },
  {
   "cell_type": "code",
   "execution_count": 1,
   "id": "4f7f1115",
   "metadata": {},
   "outputs": [],
   "source": [
    "import pandas as pd\n",
    "import numpy as np\n",
    "from faker import Faker\n",
    "import random"
   ]
  },
  {
   "cell_type": "markdown",
   "id": "f0d63ea8",
   "metadata": {},
   "source": [
    "## Clientes"
   ]
  },
  {
   "cell_type": "code",
   "execution_count": 2,
   "id": "01bd4565",
   "metadata": {},
   "outputs": [],
   "source": [
    "fake =Faker('es_ES')\n",
    "Faker.seed(42)\n",
    "np.random.seed(42)\n",
    "random.seed(42)"
   ]
  },
  {
   "cell_type": "code",
   "execution_count": 3,
   "id": "c025053f",
   "metadata": {},
   "outputs": [],
   "source": [
    "num_clientes = 12000\n",
    "clientes = pd.DataFrame({\n",
    "    'ID_Cliente': range(1, num_clientes + 1),\n",
    "    'Nombre': [fake.first_name() for _ in range(num_clientes)],\n",
    "    'Apellido': [fake.last_name() for _ in range(num_clientes)],\n",
    "    'Edad': np.random.randint(18, 80, size=num_clientes),\n",
    "    \"genero\": np.random.choice([\"Hombre\", \"Mujer\"], num_clientes),\n",
    "    \"pais\": np.random.choice([\"España\"], num_clientes),\n",
    "    \"ingresos_anuales\": np.random.randint(30000, 80000, size=num_clientes).round(2),\n",
    "    \"fecha_registro\": [fake.date_between(start_date='-5y', end_date='today') for _ in range(num_clientes)]\n",
    "    \n",
    "})"
   ]
  },
  {
   "cell_type": "markdown",
   "id": "f9e34ee9",
   "metadata": {},
   "source": [
    "## Polizas"
   ]
  },
  {
   "cell_type": "code",
   "execution_count": 5,
   "id": "c3434012",
   "metadata": {},
   "outputs": [
    {
     "name": "stderr",
     "output_type": "stream",
     "text": [
      "C:\\Users\\anoni\\AppData\\Local\\Temp\\ipykernel_21316\\1362522651.py:14: PerformanceWarning: Adding/subtracting object-dtype array to TimedeltaArray not vectorized.\n",
      "  polizas[\"fecha_fin\"] = polizas[\"fecha_inicio\"] + pd.to_timedelta(np.random.randint(200, 400, num_polizas), unit=\"d\")\n"
     ]
    }
   ],
   "source": [
    "num_polizas = 15000\n",
    "tipos_poliza = ['Auto', 'Hogar', 'Vida', 'Salud', 'Viaje']\n",
    "estados_poliza = ['Activa', 'Cancelada', 'Expirada', 'Pendiente']\n",
    "polizas = pd.DataFrame({\n",
    "    'ID_poliza': range(1, num_polizas + 1),\n",
    "    'ID_cliente': np.random.randint(1, num_clientes + 1, size=num_polizas),\n",
    "    'Tipo_seguro': np.random.choice(tipos_poliza, num_polizas, p=[0.4, 0.25, 0.2, 0.1, 0.05]),\n",
    "    'Estado': np.random.choice(estados_poliza, num_polizas),\n",
    "    'Prima_anual': np.random.normal(100, 1000, num_polizas).round(2),\n",
    "    \"fecha_inicio\": [fake.date_between(start_date=\"-4y\", end_date=\"-30d\") for _ in range(num_polizas)],\n",
    "    \"Estado\": np.random.choice(estados_poliza, num_polizas, p=[0.6,0.1,0.15,0.15])\n",
    "})\n",
    "\n",
    "polizas[\"fecha_fin\"] = polizas[\"fecha_inicio\"] + pd.to_timedelta(np.random.randint(200, 400, num_polizas), unit=\"d\")"
   ]
  },
  {
   "cell_type": "markdown",
   "id": "ef455c9c",
   "metadata": {},
   "source": [
    "## Siniestros"
   ]
  },
  {
   "cell_type": "code",
   "execution_count": 9,
   "id": "174ad8f9",
   "metadata": {},
   "outputs": [],
   "source": [
    "num_siniestros = 18000\n",
    "tipos_siniestro = ['Accidente de tráfico', 'Robo', 'Incendio', 'Daños por agua', 'Responsabilidad civil', 'Otros']\n",
    "siniestros = pd.DataFrame({\n",
    "    \"id_siniestro\": range(1, num_siniestros + 1),\n",
    "    \"id_poliza\": np.random.randint(1, num_polizas + 1, num_siniestros),\n",
    "    \"fecha_siniestro\": [fake.date_between(start_date=\"-3y\", end_date=\"today\") for _ in range(num_siniestros)],\n",
    "    \"tipo_siniestro\": np.random.choice(tipos_siniestro, num_siniestros, p=[0.35, 0.2, 0.1, 0.15, 0.1, 0.1]),\n",
    "    \"coste_siniestro\": np.abs(np.random.normal(1200, 700, num_siniestros)).round(2)\n",
    "})"
   ]
  },
  {
   "cell_type": "markdown",
   "id": "dd91f564",
   "metadata": {},
   "source": [
    "## Guardar los CSV."
   ]
  },
  {
   "cell_type": "code",
   "execution_count": 10,
   "id": "8bd2b880",
   "metadata": {},
   "outputs": [],
   "source": [
    "clientes_path = '../data/raw/clientes.csv'\n",
    "polizas_path = '../data/raw/polizas.csv'\n",
    "siniestros_path = '../data/raw/siniestros.csv'"
   ]
  },
  {
   "cell_type": "code",
   "execution_count": 11,
   "id": "0189542f",
   "metadata": {},
   "outputs": [],
   "source": [
    "clientes.to_csv(clientes_path, index=False)\n",
    "polizas.to_csv(polizas_path, index=False)\n",
    "siniestros.to_csv(siniestros_path, index=False)"
   ]
  }
 ],
 "metadata": {
  "kernelspec": {
   "display_name": "sector-seguros",
   "language": "python",
   "name": "python3"
  },
  "language_info": {
   "codemirror_mode": {
    "name": "ipython",
    "version": 3
   },
   "file_extension": ".py",
   "mimetype": "text/x-python",
   "name": "python",
   "nbconvert_exporter": "python",
   "pygments_lexer": "ipython3",
   "version": "3.11.11"
  }
 },
 "nbformat": 4,
 "nbformat_minor": 5
}
